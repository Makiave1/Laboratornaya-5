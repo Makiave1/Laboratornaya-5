{
 "cells": [
  {
   "cell_type": "markdown",
   "id": "5c9dab22-4424-4087-89f4-2b62f5a81138",
   "metadata": {},
   "source": [
    "Лабораторная работа №5\n",
    "Жидков А. В. \n",
    "ДПИ22-1"
   ]
  },
  {
   "cell_type": "markdown",
   "id": "fdf00e0b-263e-4cbb-a95e-9c71a2490e3b",
   "metadata": {},
   "source": [
    "TCP- Сервер"
   ]
  },
  {
   "cell_type": "code",
   "execution_count": null,
   "id": "30e6bfc6-3b09-4191-98fc-1f4a72e1bb8b",
   "metadata": {},
   "outputs": [],
   "source": [
    "class TCPServer:\n",
    "    def __init__(self, host='0.0.0.0', port=12345):\n",
    "        self.host = host\n",
    "        self.port = port\n",
    "        self.server_socket = None\n",
    "\n",
    "    def start(self):\n",
    "        import socket\n",
    "        import threading\n",
    "\n",
    "        self.server_socket = socket.socket(socket.AF_INET, socket.SOCK_STREAM)\n",
    "        self.server_socket.bind((self.host, self.port))\n",
    "        self.server_socket.listen(5)\n",
    "        print(\"Сервер запущен. Ожидание подключения...\")\n",
    "\n",
    "        try:\n",
    "            while True:\n",
    "                client_socket, addr = self.server_socket.accept()\n",
    "                print(f\"Подключен клиент: {addr}\")\n",
    "                client_handler = threading.Thread(target=self.handle_client, args=(client_socket,))\n",
    "                client_handler.start()\n",
    "        except KeyboardInterrupt:\n",
    "            print(\"Остановка сервера.\")\n",
    "        finally:\n",
    "            self.server_socket.close()\n",
    "\n",
    "    def handle_client(self, client_socket):\n",
    "        print(\"Подключение клиента установлено.\")\n",
    "        try:\n",
    "            while True:\n",
    "                data = client_socket.recv(1024)\n",
    "                if not data:\n",
    "                    break\n",
    "                message = data.decode()\n",
    "                print(f\"Прием данных от клиента: {message}\")\n",
    "\n",
    "                if message.lower() == \"exit\":\n",
    "                    print(\"Клиент завершил соединение.\")\n",
    "                    break\n",
    "\n",
    "                client_socket.sendall(data)  # Эхо-ответ\n",
    "                print(f\"Отправка данных клиенту: {message}\")\n",
    "        finally:\n",
    "            client_socket.close()\n",
    "            print(\"Отключение клиента.\")\n",
    "\n",
    "if __name__ == \"__main__\":\n",
    "    server = TCPServer()\n",
    "    server.start()\n"
   ]
  },
  {
   "cell_type": "markdown",
   "id": "8845ff8f-c782-4788-8243-f3a2216a954d",
   "metadata": {},
   "source": [
    "TCP-Клиент"
   ]
  },
  {
   "cell_type": "code",
   "execution_count": null,
   "id": "9c49b298-e53c-4493-9114-afc65cee8ae4",
   "metadata": {},
   "outputs": [],
   "source": [
    "class TCPClient:\n",
    "    def __init__(self, host='127.0.0.1', port=12345):\n",
    "        self.host = host\n",
    "        self.port = port\n",
    "        self.client_socket = None\n",
    "\n",
    "    def start(self):\n",
    "        import socket\n",
    "\n",
    "        self.client_socket = socket.socket(socket.AF_INET, socket.SOCK_STREAM)\n",
    "        try:\n",
    "            self.client_socket.connect((self.host, self.port))\n",
    "            print(\"Соединение с сервером установлено.\")\n",
    "\n",
    "            while True:\n",
    "                message = input(\"Введите строку для отправки (или 'exit' для выхода): \")\n",
    "                self.client_socket.sendall(message.encode())\n",
    "                print(f\"Отправка данных серверу: {message}\")\n",
    "\n",
    "                if message.lower() == 'exit':\n",
    "                    break\n",
    "\n",
    "                response = self.client_socket.recv(1024)\n",
    "                print(f\"Прием данных от сервера: {response.decode()}\")\n",
    "        finally:\n",
    "            self.client_socket.close()\n",
    "            print(\"Разрыв соединения с сервером.\")\n",
    "\n",
    "if __name__ == \"__main__\":\n",
    "    client = TCPClient()\n",
    "    client.start()\n"
   ]
  },
  {
   "cell_type": "code",
   "execution_count": null,
   "id": "b5611265-d4d3-479f-ba1d-9cbaaa1985de",
   "metadata": {},
   "outputs": [],
   "source": []
  }
 ],
 "metadata": {
  "kernelspec": {
   "display_name": "Python 3 (ipykernel)",
   "language": "python",
   "name": "python3"
  },
  "language_info": {
   "codemirror_mode": {
    "name": "ipython",
    "version": 3
   },
   "file_extension": ".py",
   "mimetype": "text/x-python",
   "name": "python",
   "nbconvert_exporter": "python",
   "pygments_lexer": "ipython3",
   "version": "3.11.7"
  }
 },
 "nbformat": 4,
 "nbformat_minor": 5
}
